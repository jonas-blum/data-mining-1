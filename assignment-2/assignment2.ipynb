{
 "cells": [
  {
   "cell_type": "code",
   "execution_count": 1,
   "id": "e9c1b66a",
   "metadata": {},
   "outputs": [],
   "source": [
    "import pandas as pd"
   ]
  },
  {
   "cell_type": "code",
   "execution_count": null,
   "id": "3173fba3",
   "metadata": {},
   "outputs": [
    {
     "name": "stdout",
     "output_type": "stream",
     "text": [
      "Number of rows before removing duplicates: 9999\n",
      "Number of rows after removing duplicates: 9816\n"
     ]
    }
   ],
   "source": [
    "# TASK 1: Warm Up\n",
    "\n",
    "df = pd.read_csv('www.csv', sep='\\t')\n",
    "df.loc[:, df.isnull().any()]\n",
    "print('Number of rows before removing duplicates:', len(df)) \n",
    "df = df.drop_duplicates('Query', keep='first') \n",
    "df.reset_index(drop=True, inplace=True) \n",
    "print('Number of rows after removing duplicates:', len(df))"
   ]
  }
 ],
 "metadata": {
  "kernelspec": {
   "display_name": "DL",
   "language": "python",
   "name": "python3"
  },
  "language_info": {
   "codemirror_mode": {
    "name": "ipython",
    "version": 3
   },
   "file_extension": ".py",
   "mimetype": "text/x-python",
   "name": "python",
   "nbconvert_exporter": "python",
   "pygments_lexer": "ipython3",
   "version": "3.10.16"
  }
 },
 "nbformat": 4,
 "nbformat_minor": 5
}
