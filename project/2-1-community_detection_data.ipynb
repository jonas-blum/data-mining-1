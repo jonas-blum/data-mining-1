{
 "cells": [
  {
   "cell_type": "code",
   "execution_count": 1,
   "id": "271002eb",
   "metadata": {},
   "outputs": [],
   "source": [
    "import pandas as pd"
   ]
  },
  {
   "cell_type": "markdown",
   "id": "394d5a5a",
   "metadata": {},
   "source": [
    "# Load users data"
   ]
  },
  {
   "cell_type": "code",
   "execution_count": 2,
   "id": "70fe1c81",
   "metadata": {},
   "outputs": [
    {
     "data": {
      "text/plain": [
       "(665384, 3)"
      ]
     },
     "execution_count": 2,
     "metadata": {},
     "output_type": "execute_result"
    }
   ],
   "source": [
    "user_columns = ['User_Id', 'Type', 'Name']\n",
    "\n",
    "df_users = pd.read_csv('./data/users.csv', delimiter='|', usecols=[0, 1, 2], names=user_columns, on_bad_lines='skip', header=None)\n",
    "\n",
    "df_users.shape"
   ]
  },
  {
   "cell_type": "markdown",
   "id": "907c21e8",
   "metadata": {},
   "source": [
    "# Load user connectivity data"
   ]
  },
  {
   "cell_type": "code",
   "execution_count": 3,
   "id": "450dc18d",
   "metadata": {},
   "outputs": [
    {
     "data": {
      "text/plain": [
       "(19547158, 2)"
      ]
     },
     "execution_count": 3,
     "metadata": {},
     "output_type": "execute_result"
    }
   ],
   "source": [
    "following_columns = ['Followed_Id', 'Follower_Id']\n",
    "\n",
    "df_following = pd.read_csv('data/following.csv', delimiter='\\t', usecols=[0, 1], names=following_columns, header=None)\n",
    "\n",
    "df_following.shape"
   ]
  },
  {
   "cell_type": "markdown",
   "id": "965e8601",
   "metadata": {},
   "source": [
    "# Clean up users data"
   ]
  },
  {
   "cell_type": "code",
   "execution_count": 4,
   "id": "2d17d75e",
   "metadata": {},
   "outputs": [
    {
     "data": {
      "text/plain": [
       "(645416, 3)"
      ]
     },
     "execution_count": 4,
     "metadata": {},
     "output_type": "execute_result"
    }
   ],
   "source": [
    "df_users.dropna(subset=['User_Id'], inplace=True)\n",
    "df_users.drop_duplicates(subset=['User_Id'], inplace=True)\n",
    "df_users['User_Id'] = df_users['User_Id'].str.lower()\n",
    "df_users.shape"
   ]
  },
  {
   "cell_type": "markdown",
   "id": "03a9c28f",
   "metadata": {},
   "source": [
    "# Clean up connectivity data"
   ]
  },
  {
   "cell_type": "code",
   "execution_count": 5,
   "id": "718d3de2",
   "metadata": {},
   "outputs": [
    {
     "data": {
      "text/plain": [
       "(19547158, 2)"
      ]
     },
     "execution_count": 5,
     "metadata": {},
     "output_type": "execute_result"
    }
   ],
   "source": [
    "df_following.drop_duplicates(inplace=True)\n",
    "df_following['Followed_Id'] = df_following['Followed_Id'].str.lower()\n",
    "df_following['Follower_Id'] = df_following['Follower_Id'].str.lower()\n",
    "df_following.shape"
   ]
  },
  {
   "cell_type": "code",
   "execution_count": 6,
   "id": "8ab91309",
   "metadata": {},
   "outputs": [
    {
     "data": {
      "text/plain": [
       "(18477147, 2)"
      ]
     },
     "execution_count": 6,
     "metadata": {},
     "output_type": "execute_result"
    }
   ],
   "source": [
    "df_valid_followings = df_following[\n",
    "    df_following['Followed_Id'].isin(df_users['User_Id']) &\n",
    "    df_following['Follower_Id'].isin(df_users['User_Id'])\n",
    "]\n",
    "\n",
    "df_valid_followings.shape"
   ]
  },
  {
   "cell_type": "markdown",
   "id": "fa71bb2d",
   "metadata": {},
   "source": [
    "# Export data"
   ]
  },
  {
   "cell_type": "code",
   "execution_count": 7,
   "id": "3b676d3d",
   "metadata": {},
   "outputs": [],
   "source": [
    "data = { 'users': df_users, 'followings': df_valid_followings }"
   ]
  },
  {
   "cell_type": "code",
   "execution_count": 8,
   "id": "d4f00091",
   "metadata": {},
   "outputs": [],
   "source": [
    "pd.to_pickle(data, \"community_detection_data.pkl\")"
   ]
  }
 ],
 "metadata": {
  "kernelspec": {
   "display_name": "Python 3",
   "language": "python",
   "name": "python3"
  },
  "language_info": {
   "codemirror_mode": {
    "name": "ipython",
    "version": 3
   },
   "file_extension": ".py",
   "mimetype": "text/x-python",
   "name": "python",
   "nbconvert_exporter": "python",
   "pygments_lexer": "ipython3",
   "version": "3.11.9"
  }
 },
 "nbformat": 4,
 "nbformat_minor": 5
}
