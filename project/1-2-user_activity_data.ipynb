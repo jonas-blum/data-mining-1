{
 "cells": [
  {
   "cell_type": "code",
   "execution_count": 2,
   "id": "5d503363",
   "metadata": {},
   "outputs": [],
   "source": [
    "import pandas as pd"
   ]
  },
  {
   "cell_type": "markdown",
   "id": "1989d03c",
   "metadata": {},
   "source": [
    "# Load Likes data"
   ]
  },
  {
   "cell_type": "code",
   "execution_count": 3,
   "id": "32fc45e5",
   "metadata": {},
   "outputs": [
    {
     "data": {
      "text/plain": [
       "(798112, 2)"
      ]
     },
     "execution_count": 3,
     "metadata": {},
     "output_type": "execute_result"
    }
   ],
   "source": [
    "likes_columns = ['User_Id', 'Post_Id']\n",
    "\n",
    "df_likes = pd.read_csv('./data/likes.csv', delimiter='\\t', usecols=[0, 1], names=likes_columns)\n",
    "\n",
    "df_likes.shape"
   ]
  },
  {
   "cell_type": "markdown",
   "id": "8571600a",
   "metadata": {},
   "source": [
    "# Load posts data"
   ]
  },
  {
   "cell_type": "code",
   "execution_count": 4,
   "id": "ea99de7b",
   "metadata": {},
   "outputs": [],
   "source": [
    "post_columns = ['Post_Id', 'User_Id', 'Service_Name', 'Text', 'NumImg', 'NumVdo']"
   ]
  },
  {
   "cell_type": "code",
   "execution_count": 5,
   "id": "d3b8a329",
   "metadata": {},
   "outputs": [
    {
     "data": {
      "text/plain": [
       "(4000000, 6)"
      ]
     },
     "execution_count": 5,
     "metadata": {},
     "output_type": "execute_result"
    }
   ],
   "source": [
    "df_posts_1 = pd.read_csv('data/entries1.csv', delimiter='\\t', on_bad_lines='skip', usecols=[0, 1, 2, 7, 8, 10], names=post_columns, header=None)\n",
    "\n",
    "df_posts_1.shape"
   ]
  },
  {
   "cell_type": "code",
   "execution_count": 6,
   "id": "ad2114c0",
   "metadata": {},
   "outputs": [
    {
     "data": {
      "text/plain": [
       "(4000000, 6)"
      ]
     },
     "execution_count": 6,
     "metadata": {},
     "output_type": "execute_result"
    }
   ],
   "source": [
    "df_posts_2 = pd.read_csv('./data/entries2.csv', delimiter='\\t', on_bad_lines='skip', usecols=[0, 1, 2, 7, 8, 10], names=post_columns, header=None)\n",
    "\n",
    "df_posts_2.shape"
   ]
  },
  {
   "cell_type": "code",
   "execution_count": 7,
   "id": "461e7366",
   "metadata": {},
   "outputs": [
    {
     "data": {
      "text/plain": [
       "(4450658, 6)"
      ]
     },
     "execution_count": 7,
     "metadata": {},
     "output_type": "execute_result"
    }
   ],
   "source": [
    "df_posts_3 = pd.read_csv('./data/entries3.csv', delimiter='\\t', on_bad_lines='skip', usecols=[0, 1, 2, 7, 8, 10], names=post_columns, header=None)\n",
    "\n",
    "df_posts_3.shape"
   ]
  },
  {
   "cell_type": "markdown",
   "id": "1ed97fa6",
   "metadata": {},
   "source": [
    "# Load comments data"
   ]
  },
  {
   "cell_type": "code",
   "execution_count": 8,
   "id": "6e5a7ee5",
   "metadata": {},
   "outputs": [
    {
     "data": {
      "text/plain": [
       "(3749891, 4)"
      ]
     },
     "execution_count": 8,
     "metadata": {},
     "output_type": "execute_result"
    }
   ],
   "source": [
    "comments_columns = ['Post_Id', 'Entry_Id', 'Posted_By', 'Source_Name']\n",
    "\n",
    "df_comments = pd.read_csv('./data/comments.csv', on_bad_lines='skip', delimiter='\\t', usecols=[0, 1, 2, 3], names=comments_columns,  header=None)\n",
    "\n",
    "df_comments.shape"
   ]
  },
  {
   "cell_type": "markdown",
   "id": "fa985b74",
   "metadata": {},
   "source": [
    "# Load valid followings data"
   ]
  },
  {
   "cell_type": "code",
   "execution_count": 9,
   "id": "4bc0d787",
   "metadata": {},
   "outputs": [],
   "source": [
    "community_detection_data = pd.read_pickle(\"community_detection_data.pkl\")"
   ]
  },
  {
   "cell_type": "code",
   "execution_count": 10,
   "id": "0d824bfd",
   "metadata": {},
   "outputs": [],
   "source": [
    "df_followings = community_detection_data['followings']"
   ]
  },
  {
   "cell_type": "code",
   "execution_count": 11,
   "id": "417834ca",
   "metadata": {},
   "outputs": [],
   "source": [
    "valid_users_for_activities = set(df_followings['Follower_Id']).union(df_followings['Followed_Id'])"
   ]
  },
  {
   "cell_type": "markdown",
   "id": "c4cff63a",
   "metadata": {},
   "source": [
    "# Clean up posts data"
   ]
  },
  {
   "cell_type": "code",
   "execution_count": 12,
   "id": "ef55b0e8",
   "metadata": {},
   "outputs": [
    {
     "data": {
      "text/plain": [
       "(3999954, 6)"
      ]
     },
     "execution_count": 12,
     "metadata": {},
     "output_type": "execute_result"
    }
   ],
   "source": [
    "df_posts_1.dropna(subset=['Text', 'NumImg', 'NumVdo'], how='all', inplace=True)\n",
    "\n",
    "df_posts_1.shape"
   ]
  },
  {
   "cell_type": "code",
   "execution_count": 13,
   "id": "ca59ea7e",
   "metadata": {},
   "outputs": [
    {
     "data": {
      "text/plain": [
       "(3999975, 6)"
      ]
     },
     "execution_count": 13,
     "metadata": {},
     "output_type": "execute_result"
    }
   ],
   "source": [
    "df_posts_2.dropna(subset=['Text', 'NumImg', 'NumVdo'], how='all', inplace=True)\n",
    "\n",
    "df_posts_2.shape"
   ]
  },
  {
   "cell_type": "code",
   "execution_count": 14,
   "id": "7cdc5905",
   "metadata": {},
   "outputs": [
    {
     "data": {
      "text/plain": [
       "(4450640, 6)"
      ]
     },
     "execution_count": 14,
     "metadata": {},
     "output_type": "execute_result"
    }
   ],
   "source": [
    "df_posts_3.dropna(subset=['Text', 'NumImg', 'NumVdo'], how='all', inplace=True)\n",
    "\n",
    "df_posts_3.shape"
   ]
  },
  {
   "cell_type": "code",
   "execution_count": 15,
   "id": "23da3afc",
   "metadata": {},
   "outputs": [],
   "source": [
    "df_posts_1['User_Id'] = df_posts_1['User_Id'].str.lower()"
   ]
  },
  {
   "cell_type": "code",
   "execution_count": 16,
   "id": "a87cf375",
   "metadata": {},
   "outputs": [],
   "source": [
    "df_posts_1['Post_Id'] = df_posts_1['Post_Id'].str.lower()"
   ]
  },
  {
   "cell_type": "code",
   "execution_count": 17,
   "id": "fe05bf40",
   "metadata": {},
   "outputs": [],
   "source": [
    "df_posts_2['User_Id'] = df_posts_2['User_Id'].str.lower()"
   ]
  },
  {
   "cell_type": "code",
   "execution_count": 18,
   "id": "6f8a712d",
   "metadata": {},
   "outputs": [],
   "source": [
    "df_posts_2['Post_Id'] = df_posts_2['Post_Id'].str.lower()"
   ]
  },
  {
   "cell_type": "code",
   "execution_count": 19,
   "id": "766f90e4",
   "metadata": {},
   "outputs": [],
   "source": [
    "df_posts_3['User_Id'] = df_posts_3['User_Id'].str.lower()"
   ]
  },
  {
   "cell_type": "code",
   "execution_count": 20,
   "id": "642fdc7d",
   "metadata": {},
   "outputs": [],
   "source": [
    "df_posts_3['Post_Id'] = df_posts_3['Post_Id'].str.lower()"
   ]
  },
  {
   "cell_type": "code",
   "execution_count": 21,
   "id": "a41402fe",
   "metadata": {},
   "outputs": [],
   "source": [
    "df_valid_posts_1 = df_posts_1[\n",
    "    df_posts_1['User_Id'].isin(valid_users_for_activities)\n",
    "]"
   ]
  },
  {
   "cell_type": "code",
   "execution_count": 22,
   "id": "a8bace80",
   "metadata": {},
   "outputs": [
    {
     "data": {
      "text/html": [
       "<div>\n",
       "<style scoped>\n",
       "    .dataframe tbody tr th:only-of-type {\n",
       "        vertical-align: middle;\n",
       "    }\n",
       "\n",
       "    .dataframe tbody tr th {\n",
       "        vertical-align: top;\n",
       "    }\n",
       "\n",
       "    .dataframe thead th {\n",
       "        text-align: right;\n",
       "    }\n",
       "</style>\n",
       "<table border=\"1\" class=\"dataframe\">\n",
       "  <thead>\n",
       "    <tr style=\"text-align: right;\">\n",
       "      <th></th>\n",
       "      <th>Post_Id</th>\n",
       "      <th>User_Id</th>\n",
       "      <th>Service_Name</th>\n",
       "      <th>Text</th>\n",
       "      <th>NumImg</th>\n",
       "      <th>NumVdo</th>\n",
       "    </tr>\n",
       "  </thead>\n",
       "  <tbody>\n",
       "    <tr>\n",
       "      <th>0</th>\n",
       "      <td>e/29af803d670fb8d67692095f3ee623e6</td>\n",
       "      <td>newsroom1</td>\n",
       "      <td>Ottawa Citizen - News</td>\n",
       "      <td>RIM 'will not compromise' BlackBerry security ...</td>\n",
       "      <td>1.0</td>\n",
       "      <td>0.0</td>\n",
       "    </tr>\n",
       "    <tr>\n",
       "      <th>1</th>\n",
       "      <td>e/9c8413a376bec6389be4d46d0812c2bb</td>\n",
       "      <td>mehmetinnet</td>\n",
       "      <td>Mehmetin.Net</td>\n",
       "      <td>Fethullah Gülen: Referandum siyasî olarak görü...</td>\n",
       "      <td>1.0</td>\n",
       "      <td>0.0</td>\n",
       "    </tr>\n",
       "    <tr>\n",
       "      <th>2</th>\n",
       "      <td>e/2d658d97842a466a9513f587f85b0e59</td>\n",
       "      <td>mehmetergin</td>\n",
       "      <td>Mehmetin.Net</td>\n",
       "      <td>Fethullah Gülen: Referandum siyasî olarak görü...</td>\n",
       "      <td>1.0</td>\n",
       "      <td>0.0</td>\n",
       "    </tr>\n",
       "    <tr>\n",
       "      <th>3</th>\n",
       "      <td>e/b269ab5d56be4e5e90c1954ecc1ef63a</td>\n",
       "      <td>afriki</td>\n",
       "      <td>NaN</td>\n",
       "      <td>Мне тут недавно один дизайнер сказал: «Ну прот...</td>\n",
       "      <td>0.0</td>\n",
       "      <td>0.0</td>\n",
       "    </tr>\n",
       "    <tr>\n",
       "      <th>4</th>\n",
       "      <td>e/74f0a50c374a4ad6bddcbcc60c60cad9</td>\n",
       "      <td>hamsafar</td>\n",
       "      <td>NaN</td>\n",
       "      <td>عرض سلام و خسته نباشيد:)</td>\n",
       "      <td>0.0</td>\n",
       "      <td>0.0</td>\n",
       "    </tr>\n",
       "  </tbody>\n",
       "</table>\n",
       "</div>"
      ],
      "text/plain": [
       "                              Post_Id      User_Id           Service_Name  \\\n",
       "0  e/29af803d670fb8d67692095f3ee623e6    newsroom1  Ottawa Citizen - News   \n",
       "1  e/9c8413a376bec6389be4d46d0812c2bb  mehmetinnet           Mehmetin.Net   \n",
       "2  e/2d658d97842a466a9513f587f85b0e59  mehmetergin           Mehmetin.Net   \n",
       "3  e/b269ab5d56be4e5e90c1954ecc1ef63a       afriki                    NaN   \n",
       "4  e/74f0a50c374a4ad6bddcbcc60c60cad9     hamsafar                    NaN   \n",
       "\n",
       "                                                Text  NumImg  NumVdo  \n",
       "0  RIM 'will not compromise' BlackBerry security ...     1.0     0.0  \n",
       "1  Fethullah Gülen: Referandum siyasî olarak görü...     1.0     0.0  \n",
       "2  Fethullah Gülen: Referandum siyasî olarak görü...     1.0     0.0  \n",
       "3  Мне тут недавно один дизайнер сказал: «Ну прот...     0.0     0.0  \n",
       "4                           عرض سلام و خسته نباشيد:)     0.0     0.0  "
      ]
     },
     "execution_count": 22,
     "metadata": {},
     "output_type": "execute_result"
    }
   ],
   "source": [
    "df_valid_posts_1.head()"
   ]
  },
  {
   "cell_type": "code",
   "execution_count": 23,
   "id": "158592c1",
   "metadata": {},
   "outputs": [],
   "source": [
    "df_valid_posts_2 = df_posts_2[\n",
    "    df_posts_2['User_Id'].isin(valid_users_for_activities) \n",
    "]"
   ]
  },
  {
   "cell_type": "code",
   "execution_count": 24,
   "id": "6838719e",
   "metadata": {},
   "outputs": [
    {
     "data": {
      "text/html": [
       "<div>\n",
       "<style scoped>\n",
       "    .dataframe tbody tr th:only-of-type {\n",
       "        vertical-align: middle;\n",
       "    }\n",
       "\n",
       "    .dataframe tbody tr th {\n",
       "        vertical-align: top;\n",
       "    }\n",
       "\n",
       "    .dataframe thead th {\n",
       "        text-align: right;\n",
       "    }\n",
       "</style>\n",
       "<table border=\"1\" class=\"dataframe\">\n",
       "  <thead>\n",
       "    <tr style=\"text-align: right;\">\n",
       "      <th></th>\n",
       "      <th>Post_Id</th>\n",
       "      <th>User_Id</th>\n",
       "      <th>Service_Name</th>\n",
       "      <th>Text</th>\n",
       "      <th>NumImg</th>\n",
       "      <th>NumVdo</th>\n",
       "    </tr>\n",
       "  </thead>\n",
       "  <tbody>\n",
       "    <tr>\n",
       "      <th>0</th>\n",
       "      <td>e/4ec845b38287101deb6739d0fa64566d</td>\n",
       "      <td>starya</td>\n",
       "      <td>Lolcats 'n' Funny Pictures of Cats - I Can Has...</td>\n",
       "      <td>VIDEO: Kitteh Tricks - &lt;a rel=\"nofollow\" href=...</td>\n",
       "      <td>0.0</td>\n",
       "      <td>0.0</td>\n",
       "    </tr>\n",
       "    <tr>\n",
       "      <th>1</th>\n",
       "      <td>e/3ca878bcc2f5ed65c7217e4e8d1b6300</td>\n",
       "      <td>vkamutzki</td>\n",
       "      <td>Google Reader</td>\n",
       "      <td>Scene: Torontohenge Sunrise - &lt;a rel=\"nofollow...</td>\n",
       "      <td>0.0</td>\n",
       "      <td>0.0</td>\n",
       "    </tr>\n",
       "    <tr>\n",
       "      <th>2</th>\n",
       "      <td>e/19130fd6b5444f9ba321c58bdf7242a2</td>\n",
       "      <td>biznetsuk</td>\n",
       "      <td>HelloTxt</td>\n",
       "      <td>autobuynow.info/cars Car Buying: How to buy ne...</td>\n",
       "      <td>0.0</td>\n",
       "      <td>0.0</td>\n",
       "    </tr>\n",
       "    <tr>\n",
       "      <th>3</th>\n",
       "      <td>e/62945bae3a1433880c0a681081ee8cbb</td>\n",
       "      <td>monikap19</td>\n",
       "      <td>Books Nonfiction</td>\n",
       "      <td>Check Out Psychology for $89.28 - &lt;a rel=\"nofo...</td>\n",
       "      <td>0.0</td>\n",
       "      <td>0.0</td>\n",
       "    </tr>\n",
       "    <tr>\n",
       "      <th>4</th>\n",
       "      <td>e/41d2105e23fc70c1976387ab53f51c89</td>\n",
       "      <td>pendar</td>\n",
       "      <td>Google Reader</td>\n",
       "      <td>رکورد گینس تایپ سریع پیام با استفاده از گوشی گ...</td>\n",
       "      <td>0.0</td>\n",
       "      <td>0.0</td>\n",
       "    </tr>\n",
       "  </tbody>\n",
       "</table>\n",
       "</div>"
      ],
      "text/plain": [
       "                              Post_Id    User_Id  \\\n",
       "0  e/4ec845b38287101deb6739d0fa64566d     starya   \n",
       "1  e/3ca878bcc2f5ed65c7217e4e8d1b6300  vkamutzki   \n",
       "2  e/19130fd6b5444f9ba321c58bdf7242a2  biznetsuk   \n",
       "3  e/62945bae3a1433880c0a681081ee8cbb  monikap19   \n",
       "4  e/41d2105e23fc70c1976387ab53f51c89     pendar   \n",
       "\n",
       "                                        Service_Name  \\\n",
       "0  Lolcats 'n' Funny Pictures of Cats - I Can Has...   \n",
       "1                                      Google Reader   \n",
       "2                                           HelloTxt   \n",
       "3                                   Books Nonfiction   \n",
       "4                                      Google Reader   \n",
       "\n",
       "                                                Text  NumImg  NumVdo  \n",
       "0  VIDEO: Kitteh Tricks - <a rel=\"nofollow\" href=...     0.0     0.0  \n",
       "1  Scene: Torontohenge Sunrise - <a rel=\"nofollow...     0.0     0.0  \n",
       "2  autobuynow.info/cars Car Buying: How to buy ne...     0.0     0.0  \n",
       "3  Check Out Psychology for $89.28 - <a rel=\"nofo...     0.0     0.0  \n",
       "4  رکورد گینس تایپ سریع پیام با استفاده از گوشی گ...     0.0     0.0  "
      ]
     },
     "execution_count": 24,
     "metadata": {},
     "output_type": "execute_result"
    }
   ],
   "source": [
    "df_valid_posts_2.head()"
   ]
  },
  {
   "cell_type": "code",
   "execution_count": 25,
   "id": "aeef515e",
   "metadata": {},
   "outputs": [],
   "source": [
    "df_valid_posts_3 = df_posts_3[\n",
    "    df_posts_3['User_Id'].isin(valid_users_for_activities) \n",
    "]"
   ]
  },
  {
   "cell_type": "code",
   "execution_count": 26,
   "id": "0c96b391",
   "metadata": {},
   "outputs": [
    {
     "data": {
      "text/html": [
       "<div>\n",
       "<style scoped>\n",
       "    .dataframe tbody tr th:only-of-type {\n",
       "        vertical-align: middle;\n",
       "    }\n",
       "\n",
       "    .dataframe tbody tr th {\n",
       "        vertical-align: top;\n",
       "    }\n",
       "\n",
       "    .dataframe thead th {\n",
       "        text-align: right;\n",
       "    }\n",
       "</style>\n",
       "<table border=\"1\" class=\"dataframe\">\n",
       "  <thead>\n",
       "    <tr style=\"text-align: right;\">\n",
       "      <th></th>\n",
       "      <th>Post_Id</th>\n",
       "      <th>User_Id</th>\n",
       "      <th>Service_Name</th>\n",
       "      <th>Text</th>\n",
       "      <th>NumImg</th>\n",
       "      <th>NumVdo</th>\n",
       "    </tr>\n",
       "  </thead>\n",
       "  <tbody>\n",
       "    <tr>\n",
       "      <th>0</th>\n",
       "      <td>e/56dfd8c1beb24b52b33e5369a1004603</td>\n",
       "      <td>healthrockstar</td>\n",
       "      <td>Ping.fm</td>\n",
       "      <td>HealthRockstar: weightloss,#fitness 11 News An...</td>\n",
       "      <td>0.0</td>\n",
       "      <td>0.0</td>\n",
       "    </tr>\n",
       "    <tr>\n",
       "      <th>1</th>\n",
       "      <td>e/6d231b54bd0289060de9be6905900961</td>\n",
       "      <td>aggregatore</td>\n",
       "      <td>Aggregatore di blog</td>\n",
       "      <td>Pop Star Coreana Cade Rovinosamente Sul Palco ...</td>\n",
       "      <td>0.0</td>\n",
       "      <td>0.0</td>\n",
       "    </tr>\n",
       "    <tr>\n",
       "      <th>3</th>\n",
       "      <td>e/0e38d17bf5a47b55ae5782c8a6d985bc</td>\n",
       "      <td>cleanthinking</td>\n",
       "      <td>Cleanthinking.de - Cleantech und Energie News</td>\n",
       "      <td>Hintergrund Geothermie: Die Quelle, die nie ve...</td>\n",
       "      <td>0.0</td>\n",
       "      <td>0.0</td>\n",
       "    </tr>\n",
       "    <tr>\n",
       "      <th>4</th>\n",
       "      <td>e/5cb0fbb41a0567b2e3f228d0d6cec52e</td>\n",
       "      <td>gnomebeatz</td>\n",
       "      <td>Twitter</td>\n",
       "      <td>@&lt;a rel=\"nofollow\" href=\"http://twitter.com/ma...</td>\n",
       "      <td>0.0</td>\n",
       "      <td>0.0</td>\n",
       "    </tr>\n",
       "    <tr>\n",
       "      <th>5</th>\n",
       "      <td>e/26ae17b2b74c73542e9e763456fe9d92</td>\n",
       "      <td>fastake</td>\n",
       "      <td>Twitter</td>\n",
       "      <td>New York Fashion Week to Include Designer Sex ...</td>\n",
       "      <td>0.0</td>\n",
       "      <td>0.0</td>\n",
       "    </tr>\n",
       "  </tbody>\n",
       "</table>\n",
       "</div>"
      ],
      "text/plain": [
       "                              Post_Id         User_Id  \\\n",
       "0  e/56dfd8c1beb24b52b33e5369a1004603  healthrockstar   \n",
       "1  e/6d231b54bd0289060de9be6905900961     aggregatore   \n",
       "3  e/0e38d17bf5a47b55ae5782c8a6d985bc   cleanthinking   \n",
       "4  e/5cb0fbb41a0567b2e3f228d0d6cec52e      gnomebeatz   \n",
       "5  e/26ae17b2b74c73542e9e763456fe9d92         fastake   \n",
       "\n",
       "                                    Service_Name  \\\n",
       "0                                        Ping.fm   \n",
       "1                            Aggregatore di blog   \n",
       "3  Cleanthinking.de - Cleantech und Energie News   \n",
       "4                                        Twitter   \n",
       "5                                        Twitter   \n",
       "\n",
       "                                                Text  NumImg  NumVdo  \n",
       "0  HealthRockstar: weightloss,#fitness 11 News An...     0.0     0.0  \n",
       "1  Pop Star Coreana Cade Rovinosamente Sul Palco ...     0.0     0.0  \n",
       "3  Hintergrund Geothermie: Die Quelle, die nie ve...     0.0     0.0  \n",
       "4  @<a rel=\"nofollow\" href=\"http://twitter.com/ma...     0.0     0.0  \n",
       "5  New York Fashion Week to Include Designer Sex ...     0.0     0.0  "
      ]
     },
     "execution_count": 26,
     "metadata": {},
     "output_type": "execute_result"
    }
   ],
   "source": [
    "df_valid_posts_3.head()"
   ]
  },
  {
   "cell_type": "code",
   "execution_count": 27,
   "id": "3e7fc046",
   "metadata": {},
   "outputs": [],
   "source": [
    "df_valid_posts = pd.concat([df_valid_posts_1[['Post_Id', 'User_Id', 'Service_Name']],\n",
    "                            df_valid_posts_2[['Post_Id', 'User_Id', 'Service_Name']],\n",
    "                            df_valid_posts_3[['Post_Id', 'User_Id', 'Service_Name']]])"
   ]
  },
  {
   "cell_type": "code",
   "execution_count": 28,
   "id": "b15dc2c9",
   "metadata": {},
   "outputs": [
    {
     "data": {
      "text/plain": [
       "(10864613, 3)"
      ]
     },
     "execution_count": 28,
     "metadata": {},
     "output_type": "execute_result"
    }
   ],
   "source": [
    "df_valid_posts.shape"
   ]
  },
  {
   "cell_type": "code",
   "execution_count": 29,
   "id": "4fce7a64",
   "metadata": {},
   "outputs": [
    {
     "data": {
      "text/html": [
       "<div>\n",
       "<style scoped>\n",
       "    .dataframe tbody tr th:only-of-type {\n",
       "        vertical-align: middle;\n",
       "    }\n",
       "\n",
       "    .dataframe tbody tr th {\n",
       "        vertical-align: top;\n",
       "    }\n",
       "\n",
       "    .dataframe thead th {\n",
       "        text-align: right;\n",
       "    }\n",
       "</style>\n",
       "<table border=\"1\" class=\"dataframe\">\n",
       "  <thead>\n",
       "    <tr style=\"text-align: right;\">\n",
       "      <th></th>\n",
       "      <th>Post_Id</th>\n",
       "      <th>User_Id</th>\n",
       "      <th>Service_Name</th>\n",
       "    </tr>\n",
       "  </thead>\n",
       "  <tbody>\n",
       "    <tr>\n",
       "      <th>0</th>\n",
       "      <td>e/29af803d670fb8d67692095f3ee623e6</td>\n",
       "      <td>newsroom1</td>\n",
       "      <td>Ottawa Citizen - News</td>\n",
       "    </tr>\n",
       "    <tr>\n",
       "      <th>1</th>\n",
       "      <td>e/9c8413a376bec6389be4d46d0812c2bb</td>\n",
       "      <td>mehmetinnet</td>\n",
       "      <td>Mehmetin.Net</td>\n",
       "    </tr>\n",
       "    <tr>\n",
       "      <th>2</th>\n",
       "      <td>e/2d658d97842a466a9513f587f85b0e59</td>\n",
       "      <td>mehmetergin</td>\n",
       "      <td>Mehmetin.Net</td>\n",
       "    </tr>\n",
       "    <tr>\n",
       "      <th>3</th>\n",
       "      <td>e/b269ab5d56be4e5e90c1954ecc1ef63a</td>\n",
       "      <td>afriki</td>\n",
       "      <td>NaN</td>\n",
       "    </tr>\n",
       "    <tr>\n",
       "      <th>4</th>\n",
       "      <td>e/74f0a50c374a4ad6bddcbcc60c60cad9</td>\n",
       "      <td>hamsafar</td>\n",
       "      <td>NaN</td>\n",
       "    </tr>\n",
       "  </tbody>\n",
       "</table>\n",
       "</div>"
      ],
      "text/plain": [
       "                              Post_Id      User_Id           Service_Name\n",
       "0  e/29af803d670fb8d67692095f3ee623e6    newsroom1  Ottawa Citizen - News\n",
       "1  e/9c8413a376bec6389be4d46d0812c2bb  mehmetinnet           Mehmetin.Net\n",
       "2  e/2d658d97842a466a9513f587f85b0e59  mehmetergin           Mehmetin.Net\n",
       "3  e/b269ab5d56be4e5e90c1954ecc1ef63a       afriki                    NaN\n",
       "4  e/74f0a50c374a4ad6bddcbcc60c60cad9     hamsafar                    NaN"
      ]
     },
     "execution_count": 29,
     "metadata": {},
     "output_type": "execute_result"
    }
   ],
   "source": [
    "df_valid_posts.head()"
   ]
  },
  {
   "cell_type": "markdown",
   "id": "4e5d49e2",
   "metadata": {},
   "source": [
    "# Clean up likes data"
   ]
  },
  {
   "cell_type": "code",
   "execution_count": 30,
   "id": "a986ab03",
   "metadata": {},
   "outputs": [],
   "source": [
    "df_likes.drop_duplicates(inplace=True)"
   ]
  },
  {
   "cell_type": "code",
   "execution_count": 31,
   "id": "45c8ad1d",
   "metadata": {},
   "outputs": [],
   "source": [
    "df_likes['User_Id'] = df_likes['User_Id'].str.lower()\n",
    "df_likes['Post_Id'] = df_likes['Post_Id'].str.lower()"
   ]
  },
  {
   "cell_type": "code",
   "execution_count": 32,
   "id": "e4fda5e8",
   "metadata": {},
   "outputs": [
    {
     "data": {
      "text/plain": [
       "(797290, 2)"
      ]
     },
     "execution_count": 32,
     "metadata": {},
     "output_type": "execute_result"
    }
   ],
   "source": [
    "df_likes.shape"
   ]
  },
  {
   "cell_type": "code",
   "execution_count": 33,
   "id": "e7222e6c",
   "metadata": {},
   "outputs": [],
   "source": [
    "df_valid_likes = df_likes[df_likes['User_Id'].isin(valid_users_for_activities)]"
   ]
  },
  {
   "cell_type": "code",
   "execution_count": 34,
   "id": "0d11132f",
   "metadata": {},
   "outputs": [
    {
     "data": {
      "text/html": [
       "<div>\n",
       "<style scoped>\n",
       "    .dataframe tbody tr th:only-of-type {\n",
       "        vertical-align: middle;\n",
       "    }\n",
       "\n",
       "    .dataframe tbody tr th {\n",
       "        vertical-align: top;\n",
       "    }\n",
       "\n",
       "    .dataframe thead th {\n",
       "        text-align: right;\n",
       "    }\n",
       "</style>\n",
       "<table border=\"1\" class=\"dataframe\">\n",
       "  <thead>\n",
       "    <tr style=\"text-align: right;\">\n",
       "      <th></th>\n",
       "      <th>User_Id</th>\n",
       "      <th>Post_Id</th>\n",
       "    </tr>\n",
       "  </thead>\n",
       "  <tbody>\n",
       "    <tr>\n",
       "      <th>0</th>\n",
       "      <td>yasinde</td>\n",
       "      <td>e/2d4fcaed2d2a4ac1a36571b66da3f16c</td>\n",
       "    </tr>\n",
       "    <tr>\n",
       "      <th>1</th>\n",
       "      <td>socialnewsturkey</td>\n",
       "      <td>e/2d4fcaed2d2a4ac1a36571b66da3f16c</td>\n",
       "    </tr>\n",
       "    <tr>\n",
       "      <th>2</th>\n",
       "      <td>janzu</td>\n",
       "      <td>e/2d4fcaed2d2a4ac1a36571b66da3f16c</td>\n",
       "    </tr>\n",
       "    <tr>\n",
       "      <th>3</th>\n",
       "      <td>mugecerman</td>\n",
       "      <td>e/2d4fcaed2d2a4ac1a36571b66da3f16c</td>\n",
       "    </tr>\n",
       "    <tr>\n",
       "      <th>4</th>\n",
       "      <td>miocaro</td>\n",
       "      <td>e/2d4fcaed2d2a4ac1a36571b66da3f16c</td>\n",
       "    </tr>\n",
       "  </tbody>\n",
       "</table>\n",
       "</div>"
      ],
      "text/plain": [
       "            User_Id                             Post_Id\n",
       "0           yasinde  e/2d4fcaed2d2a4ac1a36571b66da3f16c\n",
       "1  socialnewsturkey  e/2d4fcaed2d2a4ac1a36571b66da3f16c\n",
       "2             janzu  e/2d4fcaed2d2a4ac1a36571b66da3f16c\n",
       "3        mugecerman  e/2d4fcaed2d2a4ac1a36571b66da3f16c\n",
       "4           miocaro  e/2d4fcaed2d2a4ac1a36571b66da3f16c"
      ]
     },
     "execution_count": 34,
     "metadata": {},
     "output_type": "execute_result"
    }
   ],
   "source": [
    "df_valid_likes.head()"
   ]
  },
  {
   "cell_type": "markdown",
   "id": "f366938a",
   "metadata": {},
   "source": [
    "# Clean up comments data"
   ]
  },
  {
   "cell_type": "code",
   "execution_count": 35,
   "id": "fa4ce64b",
   "metadata": {},
   "outputs": [],
   "source": [
    "df_comments.dropna(subset=['Posted_By'], inplace=True)"
   ]
  },
  {
   "cell_type": "code",
   "execution_count": 36,
   "id": "dae14b45",
   "metadata": {},
   "outputs": [],
   "source": [
    "df_comments.drop_duplicates(inplace=True)"
   ]
  },
  {
   "cell_type": "code",
   "execution_count": 37,
   "id": "8c75f70d",
   "metadata": {},
   "outputs": [],
   "source": [
    "df_comments['Posted_By'] = df_comments['Posted_By'].str.lower()"
   ]
  },
  {
   "cell_type": "code",
   "execution_count": 38,
   "id": "3ab72b1b",
   "metadata": {},
   "outputs": [
    {
     "data": {
      "text/plain": [
       "(3749891, 4)"
      ]
     },
     "execution_count": 38,
     "metadata": {},
     "output_type": "execute_result"
    }
   ],
   "source": [
    "df_comments.shape"
   ]
  },
  {
   "cell_type": "code",
   "execution_count": 39,
   "id": "f6501b59",
   "metadata": {},
   "outputs": [],
   "source": [
    "df_valid_comments = df_comments[df_comments['Posted_By'].isin(valid_users_for_activities)]"
   ]
  },
  {
   "cell_type": "code",
   "execution_count": 40,
   "id": "9e3c454f",
   "metadata": {},
   "outputs": [
    {
     "data": {
      "text/html": [
       "<div>\n",
       "<style scoped>\n",
       "    .dataframe tbody tr th:only-of-type {\n",
       "        vertical-align: middle;\n",
       "    }\n",
       "\n",
       "    .dataframe tbody tr th {\n",
       "        vertical-align: top;\n",
       "    }\n",
       "\n",
       "    .dataframe thead th {\n",
       "        text-align: right;\n",
       "    }\n",
       "</style>\n",
       "<table border=\"1\" class=\"dataframe\">\n",
       "  <thead>\n",
       "    <tr style=\"text-align: right;\">\n",
       "      <th></th>\n",
       "      <th>Post_Id</th>\n",
       "      <th>Entry_Id</th>\n",
       "      <th>Posted_By</th>\n",
       "      <th>Source_Name</th>\n",
       "    </tr>\n",
       "  </thead>\n",
       "  <tbody>\n",
       "    <tr>\n",
       "      <th>0</th>\n",
       "      <td>e/ed12adf025b5491da54c4ff2c8c5377a/c/c2dbc8151...</td>\n",
       "      <td>e/ed12adf025b5491da54c4ff2c8c5377a</td>\n",
       "      <td>koenigdublin</td>\n",
       "      <td>NaN</td>\n",
       "    </tr>\n",
       "    <tr>\n",
       "      <th>1</th>\n",
       "      <td>e/7f6fb13b5a99449bb9dcbb3f8693be73/c/7477fb677...</td>\n",
       "      <td>e/7f6fb13b5a99449bb9dcbb3f8693be73</td>\n",
       "      <td>ilportalinux</td>\n",
       "      <td>NaN</td>\n",
       "    </tr>\n",
       "    <tr>\n",
       "      <th>2</th>\n",
       "      <td>e/624ca9226b6526ebdb69f9b46df482c7/c/32c6bf5bc...</td>\n",
       "      <td>e/624ca9226b6526ebdb69f9b46df482c7</td>\n",
       "      <td>guardianuk</td>\n",
       "      <td>NaN</td>\n",
       "    </tr>\n",
       "    <tr>\n",
       "      <th>3</th>\n",
       "      <td>e/2fdf59e075094fe1847137af34eda0f7/c/eb22afe81...</td>\n",
       "      <td>e/2fdf59e075094fe1847137af34eda0f7</td>\n",
       "      <td>nahi</td>\n",
       "      <td>m.ctor.org</td>\n",
       "    </tr>\n",
       "    <tr>\n",
       "      <th>4</th>\n",
       "      <td>e/4d8de05f989d43a4b90bfbfc59751e1c/c/d472f7b81...</td>\n",
       "      <td>e/4d8de05f989d43a4b90bfbfc59751e1c</td>\n",
       "      <td>miocaro</td>\n",
       "      <td>NaN</td>\n",
       "    </tr>\n",
       "  </tbody>\n",
       "</table>\n",
       "</div>"
      ],
      "text/plain": [
       "                                             Post_Id  \\\n",
       "0  e/ed12adf025b5491da54c4ff2c8c5377a/c/c2dbc8151...   \n",
       "1  e/7f6fb13b5a99449bb9dcbb3f8693be73/c/7477fb677...   \n",
       "2  e/624ca9226b6526ebdb69f9b46df482c7/c/32c6bf5bc...   \n",
       "3  e/2fdf59e075094fe1847137af34eda0f7/c/eb22afe81...   \n",
       "4  e/4d8de05f989d43a4b90bfbfc59751e1c/c/d472f7b81...   \n",
       "\n",
       "                             Entry_Id     Posted_By Source_Name  \n",
       "0  e/ed12adf025b5491da54c4ff2c8c5377a  koenigdublin         NaN  \n",
       "1  e/7f6fb13b5a99449bb9dcbb3f8693be73  ilportalinux         NaN  \n",
       "2  e/624ca9226b6526ebdb69f9b46df482c7    guardianuk         NaN  \n",
       "3  e/2fdf59e075094fe1847137af34eda0f7          nahi  m.ctor.org  \n",
       "4  e/4d8de05f989d43a4b90bfbfc59751e1c       miocaro         NaN  "
      ]
     },
     "execution_count": 40,
     "metadata": {},
     "output_type": "execute_result"
    }
   ],
   "source": [
    "df_comments.head()"
   ]
  },
  {
   "cell_type": "markdown",
   "id": "108c05da",
   "metadata": {},
   "source": [
    "# Export data"
   ]
  },
  {
   "cell_type": "code",
   "execution_count": 41,
   "id": "dea93175",
   "metadata": {},
   "outputs": [],
   "source": [
    "likes_data = { 'likes': df_valid_likes }\n",
    "\n",
    "pd.to_pickle(likes_data, 'user_activity_data_likes.pkl')"
   ]
  },
  {
   "cell_type": "code",
   "execution_count": 42,
   "id": "2f049a58",
   "metadata": {},
   "outputs": [],
   "source": [
    "comments_data = { 'comments': df_valid_comments }\n",
    "\n",
    "pd.to_pickle(comments_data, 'user_activity_data_comments.pkl')"
   ]
  },
  {
   "cell_type": "code",
   "execution_count": 43,
   "id": "492fdebd",
   "metadata": {},
   "outputs": [],
   "source": [
    "posts_data = { 'posts': df_valid_posts }\n",
    "\n",
    "pd.to_pickle(posts_data, 'user_activity_data_posts.pkl')"
   ]
  }
 ],
 "metadata": {
  "kernelspec": {
   "display_name": "Python 3",
   "language": "python",
   "name": "python3"
  },
  "language_info": {
   "codemirror_mode": {
    "name": "ipython",
    "version": 3
   },
   "file_extension": ".py",
   "mimetype": "text/x-python",
   "name": "python",
   "nbconvert_exporter": "python",
   "pygments_lexer": "ipython3",
   "version": "3.11.9"
  }
 },
 "nbformat": 4,
 "nbformat_minor": 5
}
