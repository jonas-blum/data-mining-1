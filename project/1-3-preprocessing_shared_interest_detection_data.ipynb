{
 "cells": [
  {
   "cell_type": "code",
   "execution_count": 1,
   "id": "3c3f06d1",
   "metadata": {},
   "outputs": [],
   "source": [
    "import pandas as pd"
   ]
  },
  {
   "cell_type": "markdown",
   "id": "7cce1233",
   "metadata": {},
   "source": [
    "# Load services data"
   ]
  },
  {
   "cell_type": "code",
   "execution_count": 2,
   "id": "b99fcb0d",
   "metadata": {},
   "outputs": [
    {
     "data": {
      "text/plain": [
       "(1587334, 6)"
      ]
     },
     "execution_count": 2,
     "metadata": {},
     "output_type": "execute_result"
    }
   ],
   "source": [
    "service_columns = ['User_Id', 'Service_Id', 'Service_Name', 'Service_URL', 'UserName_On_Service', 'UserURL_On_Service']\n",
    "\n",
    "df_services = pd.read_csv('data/services.csv', delimiter='|', on_bad_lines='skip', names=service_columns, usecols=[0, 1, 2, 3, 4, 5], header=None)\n",
    "\n",
    "df_services.shape"
   ]
  },
  {
   "cell_type": "markdown",
   "id": "def2eff6",
   "metadata": {},
   "source": [
    "# Load valid followings data"
   ]
  },
  {
   "cell_type": "code",
   "execution_count": 3,
   "id": "f87141dd",
   "metadata": {},
   "outputs": [],
   "source": [
    "community_detection_data = pd.read_pickle(\"community_detection_data.pkl\")"
   ]
  },
  {
   "cell_type": "code",
   "execution_count": 4,
   "id": "f6d232d3",
   "metadata": {},
   "outputs": [],
   "source": [
    "df_followings = community_detection_data['followings']"
   ]
  },
  {
   "cell_type": "code",
   "execution_count": 5,
   "id": "f60d2bfc",
   "metadata": {},
   "outputs": [],
   "source": [
    "valid_users_in_community = set(df_followings['Follower_Id']).union(df_followings['Followed_Id'])"
   ]
  },
  {
   "cell_type": "code",
   "execution_count": 6,
   "id": "4f66559d",
   "metadata": {},
   "outputs": [
    {
     "data": {
      "text/plain": [
       "484252"
      ]
     },
     "execution_count": 6,
     "metadata": {},
     "output_type": "execute_result"
    }
   ],
   "source": [
    "len(valid_users_in_community)"
   ]
  },
  {
   "cell_type": "markdown",
   "id": "587e4966",
   "metadata": {},
   "source": [
    "# Clean up services data"
   ]
  },
  {
   "cell_type": "code",
   "execution_count": 7,
   "id": "5ef2b5e9",
   "metadata": {},
   "outputs": [],
   "source": [
    "df_services.dropna(subset=['User_Id'], inplace=True)\n",
    "df_services.dropna(subset=['Service_Id'], inplace=True)\n",
    "df_services.drop_duplicates(inplace=True)"
   ]
  },
  {
   "cell_type": "code",
   "execution_count": 8,
   "id": "0fd3747b",
   "metadata": {},
   "outputs": [],
   "source": [
    "df_services['User_Id'] = df_services['User_Id'].str.lower()"
   ]
  },
  {
   "cell_type": "code",
   "execution_count": 9,
   "id": "bc22a8eb",
   "metadata": {},
   "outputs": [],
   "source": [
    "df_services['Service_Id'] = df_services['Service_Id'].str.lower()"
   ]
  },
  {
   "cell_type": "code",
   "execution_count": 10,
   "id": "7cf7eaeb",
   "metadata": {},
   "outputs": [],
   "source": [
    "df_services = df_services[\n",
    "                df_services['User_Id'].isin(valid_users_in_community)\n",
    "            ]"
   ]
  },
  {
   "cell_type": "code",
   "execution_count": 11,
   "id": "246f581a",
   "metadata": {},
   "outputs": [
    {
     "data": {
      "text/plain": [
       "(1366407, 6)"
      ]
     },
     "execution_count": 11,
     "metadata": {},
     "output_type": "execute_result"
    }
   ],
   "source": [
    "df_services.shape"
   ]
  },
  {
   "cell_type": "markdown",
   "id": "2025ebd1",
   "metadata": {},
   "source": [
    "# Load subscriptions data"
   ]
  },
  {
   "cell_type": "code",
   "execution_count": 12,
   "id": "ca866124",
   "metadata": {},
   "outputs": [],
   "source": [
    "subscription_columns = ['Subscriber_Id', 'Subscribed_To_Id']\n",
    "\n",
    "df_subscriptions = pd.read_csv('data/subscriptions.csv', delimiter=',', names=subscription_columns)"
   ]
  },
  {
   "cell_type": "code",
   "execution_count": 17,
   "id": "fc0a2bc0",
   "metadata": {},
   "outputs": [],
   "source": [
    "data_services = { 'services': df_services }\n",
    "pd.to_pickle(data_services, 'shared_interest_detection_data_services.pkl')"
   ]
  }
 ],
 "metadata": {
  "kernelspec": {
   "display_name": "Python 3",
   "language": "python",
   "name": "python3"
  },
  "language_info": {
   "codemirror_mode": {
    "name": "ipython",
    "version": 3
   },
   "file_extension": ".py",
   "mimetype": "text/x-python",
   "name": "python",
   "nbconvert_exporter": "python",
   "pygments_lexer": "ipython3",
   "version": "3.11.9"
  }
 },
 "nbformat": 4,
 "nbformat_minor": 5
}
