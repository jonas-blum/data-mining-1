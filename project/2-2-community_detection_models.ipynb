{
 "cells": [
  {
   "cell_type": "code",
   "execution_count": 1,
   "id": "a08febe3",
   "metadata": {},
   "outputs": [],
   "source": [
    "import pandas as pd"
   ]
  },
  {
   "cell_type": "code",
   "execution_count": 2,
   "id": "bd868001",
   "metadata": {},
   "outputs": [],
   "source": [
    "data = pd.read_pickle(\"community_detection_data.pkl\")"
   ]
  },
  {
   "cell_type": "code",
   "execution_count": 3,
   "id": "b4a3b1f3",
   "metadata": {},
   "outputs": [],
   "source": [
    "df_followings = data['followings']"
   ]
  },
  {
   "cell_type": "code",
   "execution_count": 4,
   "id": "5c357218",
   "metadata": {},
   "outputs": [
    {
     "data": {
      "text/html": [
       "<div>\n",
       "<style scoped>\n",
       "    .dataframe tbody tr th:only-of-type {\n",
       "        vertical-align: middle;\n",
       "    }\n",
       "\n",
       "    .dataframe tbody tr th {\n",
       "        vertical-align: top;\n",
       "    }\n",
       "\n",
       "    .dataframe thead th {\n",
       "        text-align: right;\n",
       "    }\n",
       "</style>\n",
       "<table border=\"1\" class=\"dataframe\">\n",
       "  <thead>\n",
       "    <tr style=\"text-align: right;\">\n",
       "      <th></th>\n",
       "      <th>Followed_Id</th>\n",
       "      <th>Follower_Id</th>\n",
       "    </tr>\n",
       "  </thead>\n",
       "  <tbody>\n",
       "    <tr>\n",
       "      <th>0</th>\n",
       "      <td>njsinc4el</td>\n",
       "      <td>brendafranzo</td>\n",
       "    </tr>\n",
       "    <tr>\n",
       "      <th>1</th>\n",
       "      <td>njsinc4el</td>\n",
       "      <td>praguebob</td>\n",
       "    </tr>\n",
       "    <tr>\n",
       "      <th>2</th>\n",
       "      <td>zachhwilliams</td>\n",
       "      <td>hungheroic</td>\n",
       "    </tr>\n",
       "    <tr>\n",
       "      <th>3</th>\n",
       "      <td>zachhwilliams</td>\n",
       "      <td>ridwan2906</td>\n",
       "    </tr>\n",
       "    <tr>\n",
       "      <th>4</th>\n",
       "      <td>zachhwilliams</td>\n",
       "      <td>nickcodipietro</td>\n",
       "    </tr>\n",
       "  </tbody>\n",
       "</table>\n",
       "</div>"
      ],
      "text/plain": [
       "     Followed_Id     Follower_Id\n",
       "0      njsinc4el    brendafranzo\n",
       "1      njsinc4el       praguebob\n",
       "2  zachhwilliams      hungheroic\n",
       "3  zachhwilliams      ridwan2906\n",
       "4  zachhwilliams  nickcodipietro"
      ]
     },
     "execution_count": 4,
     "metadata": {},
     "output_type": "execute_result"
    }
   ],
   "source": [
    "df_followings.head()"
   ]
  },
  {
   "cell_type": "markdown",
   "id": "88775d88",
   "metadata": {},
   "source": [
    "# Community detection model"
   ]
  },
  {
   "cell_type": "code",
   "execution_count": 5,
   "id": "c9e76df6",
   "metadata": {},
   "outputs": [],
   "source": [
    "import igraph as ig"
   ]
  },
  {
   "cell_type": "code",
   "execution_count": 6,
   "id": "87f1e348",
   "metadata": {},
   "outputs": [],
   "source": [
    "edges = list(zip(df_followings['Follower_Id'], df_followings['Followed_Id']))"
   ]
  },
  {
   "cell_type": "markdown",
   "id": "b3fa3a99",
   "metadata": {},
   "source": [
    "Model 1: Leiden Method"
   ]
  },
  {
   "cell_type": "code",
   "execution_count": 7,
   "id": "25365055",
   "metadata": {},
   "outputs": [],
   "source": [
    "grph_leiden = ig.Graph.TupleList(edges, directed=True)"
   ]
  },
  {
   "cell_type": "code",
   "execution_count": 8,
   "id": "75180d4c",
   "metadata": {},
   "outputs": [
    {
     "data": {
      "text/plain": [
       "<igraph.Graph at 0x2417ae29050>"
      ]
     },
     "execution_count": 8,
     "metadata": {},
     "output_type": "execute_result"
    }
   ],
   "source": [
    "grph_leiden.simplify() "
   ]
  },
  {
   "cell_type": "code",
   "execution_count": 9,
   "id": "ef692a11",
   "metadata": {},
   "outputs": [
    {
     "name": "stdout",
     "output_type": "stream",
     "text": [
      "Number of nodes (users): 484252\n",
      "Number of edges (connections): 18477147\n"
     ]
    }
   ],
   "source": [
    "print(f\"Number of nodes (users): {grph_leiden.vcount()}\")\n",
    "print(f\"Number of edges (connections): {grph_leiden.ecount()}\")"
   ]
  },
  {
   "cell_type": "code",
   "execution_count": 10,
   "id": "d5250054",
   "metadata": {},
   "outputs": [],
   "source": [
    "import leidenalg as la"
   ]
  },
  {
   "cell_type": "code",
   "execution_count": 11,
   "id": "c21398ae",
   "metadata": {},
   "outputs": [],
   "source": [
    "partition_leiden = la.find_partition(\n",
    "    grph_leiden, \n",
    "    la.RBConfigurationVertexPartition, \n",
    "    resolution_parameter=1,\n",
    "    n_iterations=10,\n",
    "    seed=42\n",
    ")"
   ]
  },
  {
   "cell_type": "code",
   "execution_count": 12,
   "id": "d2ffa45d",
   "metadata": {},
   "outputs": [],
   "source": [
    "modularity_leiden = grph_leiden.modularity(partition_leiden)"
   ]
  },
  {
   "cell_type": "code",
   "execution_count": 13,
   "id": "d5dcd104",
   "metadata": {},
   "outputs": [
    {
     "name": "stdout",
     "output_type": "stream",
     "text": [
      "Leiden found 1741 communities with modularity 0.4337\n"
     ]
    }
   ],
   "source": [
    "print(f\"Leiden found {len(partition_leiden)} communities with modularity {modularity_leiden:.4f}\")"
   ]
  },
  {
   "cell_type": "markdown",
   "id": "c754b72c",
   "metadata": {},
   "source": [
    "Model 2: Louvian Method"
   ]
  },
  {
   "cell_type": "code",
   "execution_count": 14,
   "id": "fbcec550",
   "metadata": {},
   "outputs": [],
   "source": [
    "grph_louvain = ig.Graph.TupleList(edges, directed=False)"
   ]
  },
  {
   "cell_type": "code",
   "execution_count": 15,
   "id": "5b5b8a1a",
   "metadata": {},
   "outputs": [
    {
     "data": {
      "text/plain": [
       "<igraph.Graph at 0x2417ae2a450>"
      ]
     },
     "execution_count": 15,
     "metadata": {},
     "output_type": "execute_result"
    }
   ],
   "source": [
    "grph_louvain.simplify()"
   ]
  },
  {
   "cell_type": "code",
   "execution_count": 16,
   "id": "0d12ea25",
   "metadata": {},
   "outputs": [],
   "source": [
    "partition_louvain = grph_louvain.community_multilevel()"
   ]
  },
  {
   "cell_type": "code",
   "execution_count": 17,
   "id": "98db9c27",
   "metadata": {},
   "outputs": [],
   "source": [
    "modularity_louvain = grph_louvain.modularity(partition_louvain)"
   ]
  },
  {
   "cell_type": "code",
   "execution_count": 18,
   "id": "a017a6ff",
   "metadata": {},
   "outputs": [
    {
     "name": "stdout",
     "output_type": "stream",
     "text": [
      "Louvain found 2260 communities with modularity 0.4183\n"
     ]
    }
   ],
   "source": [
    "print(f\"Louvain found {len(partition_louvain)} communities with modularity {modularity_louvain:.4f}\")"
   ]
  },
  {
   "cell_type": "markdown",
   "id": "ba8dc06c",
   "metadata": {},
   "source": [
    "# Leiden model evaluation"
   ]
  },
  {
   "cell_type": "markdown",
   "id": "fe287538",
   "metadata": {},
   "source": [
    "Modularity"
   ]
  },
  {
   "cell_type": "code",
   "execution_count": 19,
   "id": "a1ad97ac",
   "metadata": {},
   "outputs": [],
   "source": [
    "modularity_leiden = grph_leiden.modularity(partition_leiden)"
   ]
  },
  {
   "cell_type": "code",
   "execution_count": 20,
   "id": "8b892e44",
   "metadata": {},
   "outputs": [
    {
     "name": "stdout",
     "output_type": "stream",
     "text": [
      "Leiden found 1741 communities with modularity 0.4337\n"
     ]
    }
   ],
   "source": [
    "print(f\"Leiden found {len(partition_leiden)} communities with modularity {modularity_leiden:.4f}\")"
   ]
  },
  {
   "cell_type": "code",
   "execution_count": 21,
   "id": "abe3055f",
   "metadata": {},
   "outputs": [],
   "source": [
    "adj_outgoing_edges_leiden = {v.index: set(grph_leiden.successors(v.index)) for v in grph_leiden.vs}    "
   ]
  },
  {
   "cell_type": "code",
   "execution_count": 22,
   "id": "c13d483d",
   "metadata": {},
   "outputs": [],
   "source": [
    "leiden_community_metrics = []\n",
    "\n",
    "\n",
    "for community, subgraph in enumerate(partition_leiden.subgraphs()):\n",
    "    density = subgraph.density()\n",
    "    avg_deg = sum(subgraph.degree()) / len(subgraph.vs)\n",
    "\n",
    "    nodes = subgraph.vs.indices\n",
    "    nodes_set = set(nodes)\n",
    "    \n",
    "    internal_edges = sum(len(adj_outgoing_edges_leiden[node] & nodes_set) for node in nodes)\n",
    "    cut_edges = sum(len(adj_outgoing_edges_leiden[node] - nodes_set) for node in nodes)\n",
    "    \n",
    "    total_edges = internal_edges + cut_edges\n",
    "    conductance = cut_edges / total_edges if total_edges > 0 else 0\n",
    "\n",
    "    leiden_community_metrics.append({\n",
    "        \"community\": community,\n",
    "        \"size\": len(nodes),\n",
    "        \"density\": density,\n",
    "        \"avg_degree\": avg_deg,\n",
    "        \"internal_edges\": internal_edges,\n",
    "        \"cut_edges\": cut_edges,\n",
    "        \"conductance\": conductance\n",
    "    })"
   ]
  },
  {
   "cell_type": "code",
   "execution_count": 23,
   "id": "04df10d8",
   "metadata": {},
   "outputs": [],
   "source": [
    "df_leiden_community_metrics = pd.DataFrame(leiden_community_metrics, columns=['community', 'size', 'density', 'avg_degree', 'internal_edges', 'cut_edges', 'conductance'])"
   ]
  },
  {
   "cell_type": "code",
   "execution_count": 24,
   "id": "89f8895a",
   "metadata": {},
   "outputs": [
    {
     "data": {
      "text/html": [
       "<div>\n",
       "<style scoped>\n",
       "    .dataframe tbody tr th:only-of-type {\n",
       "        vertical-align: middle;\n",
       "    }\n",
       "\n",
       "    .dataframe tbody tr th {\n",
       "        vertical-align: top;\n",
       "    }\n",
       "\n",
       "    .dataframe thead th {\n",
       "        text-align: right;\n",
       "    }\n",
       "</style>\n",
       "<table border=\"1\" class=\"dataframe\">\n",
       "  <thead>\n",
       "    <tr style=\"text-align: right;\">\n",
       "      <th></th>\n",
       "      <th>community</th>\n",
       "      <th>size</th>\n",
       "      <th>density</th>\n",
       "      <th>avg_degree</th>\n",
       "      <th>internal_edges</th>\n",
       "      <th>cut_edges</th>\n",
       "      <th>conductance</th>\n",
       "    </tr>\n",
       "  </thead>\n",
       "  <tbody>\n",
       "    <tr>\n",
       "      <th>count</th>\n",
       "      <td>1741.000000</td>\n",
       "      <td>1741.000000</td>\n",
       "      <td>1741.000000</td>\n",
       "      <td>1741.000000</td>\n",
       "      <td>1.741000e+03</td>\n",
       "      <td>1.741000e+03</td>\n",
       "      <td>1741.000000</td>\n",
       "    </tr>\n",
       "    <tr>\n",
       "      <th>mean</th>\n",
       "      <td>870.000000</td>\n",
       "      <td>278.145893</td>\n",
       "      <td>0.445390</td>\n",
       "      <td>1.734895</td>\n",
       "      <td>3.055189e+04</td>\n",
       "      <td>8.141970e+04</td>\n",
       "      <td>0.996323</td>\n",
       "    </tr>\n",
       "    <tr>\n",
       "      <th>std</th>\n",
       "      <td>502.727726</td>\n",
       "      <td>4302.898210</td>\n",
       "      <td>0.156627</td>\n",
       "      <td>5.729240</td>\n",
       "      <td>4.222023e+05</td>\n",
       "      <td>6.678412e+05</td>\n",
       "      <td>0.030769</td>\n",
       "    </tr>\n",
       "    <tr>\n",
       "      <th>min</th>\n",
       "      <td>0.000000</td>\n",
       "      <td>2.000000</td>\n",
       "      <td>0.000138</td>\n",
       "      <td>1.000000</td>\n",
       "      <td>2.000000e+00</td>\n",
       "      <td>1.426000e+03</td>\n",
       "      <td>0.278166</td>\n",
       "    </tr>\n",
       "    <tr>\n",
       "      <th>25%</th>\n",
       "      <td>435.000000</td>\n",
       "      <td>2.000000</td>\n",
       "      <td>0.333333</td>\n",
       "      <td>1.000000</td>\n",
       "      <td>2.000000e+00</td>\n",
       "      <td>1.426000e+03</td>\n",
       "      <td>0.998599</td>\n",
       "    </tr>\n",
       "    <tr>\n",
       "      <th>50%</th>\n",
       "      <td>870.000000</td>\n",
       "      <td>2.000000</td>\n",
       "      <td>0.500000</td>\n",
       "      <td>1.000000</td>\n",
       "      <td>2.000000e+00</td>\n",
       "      <td>1.426000e+03</td>\n",
       "      <td>0.998599</td>\n",
       "    </tr>\n",
       "    <tr>\n",
       "      <th>75%</th>\n",
       "      <td>1305.000000</td>\n",
       "      <td>3.000000</td>\n",
       "      <td>0.500000</td>\n",
       "      <td>1.333333</td>\n",
       "      <td>6.000000e+00</td>\n",
       "      <td>1.294600e+04</td>\n",
       "      <td>0.999537</td>\n",
       "    </tr>\n",
       "    <tr>\n",
       "      <th>max</th>\n",
       "      <td>1740.000000</td>\n",
       "      <td>147071.000000</td>\n",
       "      <td>1.000000</td>\n",
       "      <td>191.791430</td>\n",
       "      <td>1.199646e+07</td>\n",
       "      <td>7.901668e+06</td>\n",
       "      <td>0.999773</td>\n",
       "    </tr>\n",
       "  </tbody>\n",
       "</table>\n",
       "</div>"
      ],
      "text/plain": [
       "         community           size      density   avg_degree  internal_edges  \\\n",
       "count  1741.000000    1741.000000  1741.000000  1741.000000    1.741000e+03   \n",
       "mean    870.000000     278.145893     0.445390     1.734895    3.055189e+04   \n",
       "std     502.727726    4302.898210     0.156627     5.729240    4.222023e+05   \n",
       "min       0.000000       2.000000     0.000138     1.000000    2.000000e+00   \n",
       "25%     435.000000       2.000000     0.333333     1.000000    2.000000e+00   \n",
       "50%     870.000000       2.000000     0.500000     1.000000    2.000000e+00   \n",
       "75%    1305.000000       3.000000     0.500000     1.333333    6.000000e+00   \n",
       "max    1740.000000  147071.000000     1.000000   191.791430    1.199646e+07   \n",
       "\n",
       "          cut_edges  conductance  \n",
       "count  1.741000e+03  1741.000000  \n",
       "mean   8.141970e+04     0.996323  \n",
       "std    6.678412e+05     0.030769  \n",
       "min    1.426000e+03     0.278166  \n",
       "25%    1.426000e+03     0.998599  \n",
       "50%    1.426000e+03     0.998599  \n",
       "75%    1.294600e+04     0.999537  \n",
       "max    7.901668e+06     0.999773  "
      ]
     },
     "execution_count": 24,
     "metadata": {},
     "output_type": "execute_result"
    }
   ],
   "source": [
    "df_leiden_community_metrics.describe()"
   ]
  },
  {
   "cell_type": "markdown",
   "id": "577358db",
   "metadata": {},
   "source": [
    "# Louvain Model Evaluation"
   ]
  },
  {
   "cell_type": "code",
   "execution_count": 25,
   "id": "8e36f2bf",
   "metadata": {},
   "outputs": [],
   "source": [
    "modularity_louvain = grph_louvain.modularity(partition_louvain)"
   ]
  },
  {
   "cell_type": "code",
   "execution_count": 26,
   "id": "b8a193b9",
   "metadata": {},
   "outputs": [
    {
     "name": "stdout",
     "output_type": "stream",
     "text": [
      "Louvain found 2260 communities with modularity 0.4183\n"
     ]
    }
   ],
   "source": [
    "print(f\"Louvain found {len(partition_louvain)} communities with modularity {modularity_louvain:.4f}\")"
   ]
  },
  {
   "cell_type": "code",
   "execution_count": 27,
   "id": "e55e4f16",
   "metadata": {},
   "outputs": [],
   "source": [
    "adj_edges_louvian = {v.index: set(grph_louvain.neighbors(v)) for v in grph_louvain.vs}"
   ]
  },
  {
   "cell_type": "code",
   "execution_count": 28,
   "id": "473f8c5c",
   "metadata": {},
   "outputs": [],
   "source": [
    "louvain_community_metrics = []\n",
    "\n",
    "for community, subgraph in enumerate(partition_louvain.subgraphs()):\n",
    "    density = subgraph.density()\n",
    "    avg_deg = sum(subgraph.degree()) / len(subgraph.vs)\n",
    "    \n",
    "    nodes = subgraph.vs.indices\n",
    "    nodes_set = set(nodes)\n",
    "    \n",
    "    # Internal edges: edges fully inside the community\n",
    "    internal_edges = sum(len(adj_edges_louvian[node] & nodes_set) for node in nodes) / 2\n",
    "    \n",
    "    # Cut edges: edges leaving the community\n",
    "    cut_edges = sum(len(adj_edges_louvian[node] - nodes_set) for node in nodes) / 2\n",
    "    \n",
    "    total_edges = internal_edges + cut_edges\n",
    "    conductance = cut_edges / total_edges if total_edges > 0 else 0\n",
    "    \n",
    "    louvain_community_metrics.append({\n",
    "        \"community\": community,\n",
    "        \"size\": len(nodes),\n",
    "        \"density\": density,\n",
    "        \"avg_degree\": avg_deg,\n",
    "        \"internal_edges\": internal_edges,\n",
    "        \"cut_edges\": cut_edges,\n",
    "        \"conductance\": conductance\n",
    "    })"
   ]
  },
  {
   "cell_type": "code",
   "execution_count": 29,
   "id": "d2b645bc",
   "metadata": {},
   "outputs": [],
   "source": [
    "df_louvain_community_metrics = pd.DataFrame(louvain_community_metrics, columns=['community', 'size', 'density', 'avg_degree', 'internal_edges', 'cut_edges', 'conductance'])"
   ]
  },
  {
   "cell_type": "code",
   "execution_count": 30,
   "id": "2511511f",
   "metadata": {},
   "outputs": [
    {
     "data": {
      "text/html": [
       "<div>\n",
       "<style scoped>\n",
       "    .dataframe tbody tr th:only-of-type {\n",
       "        vertical-align: middle;\n",
       "    }\n",
       "\n",
       "    .dataframe tbody tr th {\n",
       "        vertical-align: top;\n",
       "    }\n",
       "\n",
       "    .dataframe thead th {\n",
       "        text-align: right;\n",
       "    }\n",
       "</style>\n",
       "<table border=\"1\" class=\"dataframe\">\n",
       "  <thead>\n",
       "    <tr style=\"text-align: right;\">\n",
       "      <th></th>\n",
       "      <th>community</th>\n",
       "      <th>size</th>\n",
       "      <th>density</th>\n",
       "      <th>avg_degree</th>\n",
       "      <th>internal_edges</th>\n",
       "      <th>cut_edges</th>\n",
       "      <th>conductance</th>\n",
       "    </tr>\n",
       "  </thead>\n",
       "  <tbody>\n",
       "    <tr>\n",
       "      <th>count</th>\n",
       "      <td>2260.000000</td>\n",
       "      <td>2260.000000</td>\n",
       "      <td>2260.000000</td>\n",
       "      <td>2260.000000</td>\n",
       "      <td>2.260000e+03</td>\n",
       "      <td>2.260000e+03</td>\n",
       "      <td>2260.000000</td>\n",
       "    </tr>\n",
       "    <tr>\n",
       "      <th>mean</th>\n",
       "      <td>1129.500000</td>\n",
       "      <td>214.270796</td>\n",
       "      <td>0.854282</td>\n",
       "      <td>1.459513</td>\n",
       "      <td>1.928720e+04</td>\n",
       "      <td>3.607492e+04</td>\n",
       "      <td>0.996655</td>\n",
       "    </tr>\n",
       "    <tr>\n",
       "      <th>std</th>\n",
       "      <td>652.550126</td>\n",
       "      <td>4156.840457</td>\n",
       "      <td>0.248876</td>\n",
       "      <td>4.362514</td>\n",
       "      <td>3.297980e+05</td>\n",
       "      <td>3.321053e+05</td>\n",
       "      <td>0.031775</td>\n",
       "    </tr>\n",
       "    <tr>\n",
       "      <th>min</th>\n",
       "      <td>0.000000</td>\n",
       "      <td>2.000000</td>\n",
       "      <td>0.000225</td>\n",
       "      <td>1.000000</td>\n",
       "      <td>1.000000e+00</td>\n",
       "      <td>7.795000e+02</td>\n",
       "      <td>0.177751</td>\n",
       "    </tr>\n",
       "    <tr>\n",
       "      <th>25%</th>\n",
       "      <td>564.750000</td>\n",
       "      <td>2.000000</td>\n",
       "      <td>0.666667</td>\n",
       "      <td>1.000000</td>\n",
       "      <td>1.000000e+00</td>\n",
       "      <td>7.795000e+02</td>\n",
       "      <td>0.998719</td>\n",
       "    </tr>\n",
       "    <tr>\n",
       "      <th>50%</th>\n",
       "      <td>1129.500000</td>\n",
       "      <td>2.000000</td>\n",
       "      <td>1.000000</td>\n",
       "      <td>1.000000</td>\n",
       "      <td>1.000000e+00</td>\n",
       "      <td>7.795000e+02</td>\n",
       "      <td>0.998719</td>\n",
       "    </tr>\n",
       "    <tr>\n",
       "      <th>75%</th>\n",
       "      <td>1694.250000</td>\n",
       "      <td>3.000000</td>\n",
       "      <td>1.000000</td>\n",
       "      <td>1.333333</td>\n",
       "      <td>3.000000e+00</td>\n",
       "      <td>7.609500e+03</td>\n",
       "      <td>0.999583</td>\n",
       "    </tr>\n",
       "    <tr>\n",
       "      <th>max</th>\n",
       "      <td>2259.000000</td>\n",
       "      <td>170051.000000</td>\n",
       "      <td>1.000000</td>\n",
       "      <td>178.322094</td>\n",
       "      <td>1.153647e+07</td>\n",
       "      <td>4.638498e+06</td>\n",
       "      <td>0.999738</td>\n",
       "    </tr>\n",
       "  </tbody>\n",
       "</table>\n",
       "</div>"
      ],
      "text/plain": [
       "         community           size      density   avg_degree  internal_edges  \\\n",
       "count  2260.000000    2260.000000  2260.000000  2260.000000    2.260000e+03   \n",
       "mean   1129.500000     214.270796     0.854282     1.459513    1.928720e+04   \n",
       "std     652.550126    4156.840457     0.248876     4.362514    3.297980e+05   \n",
       "min       0.000000       2.000000     0.000225     1.000000    1.000000e+00   \n",
       "25%     564.750000       2.000000     0.666667     1.000000    1.000000e+00   \n",
       "50%    1129.500000       2.000000     1.000000     1.000000    1.000000e+00   \n",
       "75%    1694.250000       3.000000     1.000000     1.333333    3.000000e+00   \n",
       "max    2259.000000  170051.000000     1.000000   178.322094    1.153647e+07   \n",
       "\n",
       "          cut_edges  conductance  \n",
       "count  2.260000e+03  2260.000000  \n",
       "mean   3.607492e+04     0.996655  \n",
       "std    3.321053e+05     0.031775  \n",
       "min    7.795000e+02     0.177751  \n",
       "25%    7.795000e+02     0.998719  \n",
       "50%    7.795000e+02     0.998719  \n",
       "75%    7.609500e+03     0.999583  \n",
       "max    4.638498e+06     0.999738  "
      ]
     },
     "execution_count": 30,
     "metadata": {},
     "output_type": "execute_result"
    }
   ],
   "source": [
    "df_louvain_community_metrics.describe()"
   ]
  },
  {
   "cell_type": "code",
   "execution_count": null,
   "id": "c0b8dc4c",
   "metadata": {},
   "outputs": [],
   "source": []
  }
 ],
 "metadata": {
  "kernelspec": {
   "display_name": "Python 3",
   "language": "python",
   "name": "python3"
  },
  "language_info": {
   "codemirror_mode": {
    "name": "ipython",
    "version": 3
   },
   "file_extension": ".py",
   "mimetype": "text/x-python",
   "name": "python",
   "nbconvert_exporter": "python",
   "pygments_lexer": "ipython3",
   "version": "3.11.9"
  }
 },
 "nbformat": 4,
 "nbformat_minor": 5
}
