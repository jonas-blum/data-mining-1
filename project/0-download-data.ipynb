{
 "cells": [
  {
   "cell_type": "markdown",
   "id": "d570cec7",
   "metadata": {},
   "source": [
    "### How to download the data\n",
    "\n",
    "1. Download the data from here: https://drive.google.com/file/d/1c4yLdc-rmmBwSAv4FHiFBPrO1io0SgLR/view?usp=sharing\n",
    "2. Alternatively the data can be downloaded from here (but access needs to be requested): https://drive.google.com/drive/u/0/folders/0B_D5tuT1vDQtckFGWkk1aTh5VlE?resourcekey=0-pu1i9MdbQY1IzfOlsQJOQA\n",
    "3. Unzip the file and place all files in the `data` folder.\n"
   ]
  }
 ],
 "metadata": {
  "language_info": {
   "name": "python"
  }
 },
 "nbformat": 4,
 "nbformat_minor": 5
}
