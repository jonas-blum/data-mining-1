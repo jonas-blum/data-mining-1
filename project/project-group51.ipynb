{
 "cells": [
  {
   "cell_type": "code",
   "execution_count": 10,
   "id": "b1615046",
   "metadata": {},
   "outputs": [],
   "source": [
    "# Import libraries\n",
    "\n",
    "import pandas as pd\n",
    "import numpy as np\n",
    "from scipy import stats\n"
   ]
  },
  {
   "cell_type": "code",
   "execution_count": null,
   "id": "9c81e28a",
   "metadata": {},
   "outputs": [
    {
     "name": "stdout",
     "output_type": "stream",
     "text": [
      "(3749891, 13)\n",
      "                                              PostID  \\\n",
      "0  e/ed12adf025b5491da54c4ff2c8c5377a/c/c2dbc8151...   \n",
      "1  e/7f6fb13b5a99449bb9dcbb3f8693be73/c/7477fb677...   \n",
      "2  e/624ca9226b6526ebdb69f9b46df482c7/c/32c6bf5bc...   \n",
      "3  e/2fdf59e075094fe1847137af34eda0f7/c/eb22afe81...   \n",
      "4  e/4d8de05f989d43a4b90bfbfc59751e1c/c/d472f7b81...   \n",
      "\n",
      "                              EntryID      PostedBy  SourceName  \\\n",
      "0  e/ed12adf025b5491da54c4ff2c8c5377a  koenigdublin         NaN   \n",
      "1  e/7f6fb13b5a99449bb9dcbb3f8693be73  ilportalinux         NaN   \n",
      "2  e/624ca9226b6526ebdb69f9b46df482c7    guardianuk         NaN   \n",
      "3  e/2fdf59e075094fe1847137af34eda0f7          nahi  m.ctor.org   \n",
      "4  e/4d8de05f989d43a4b90bfbfc59751e1c       miocaro         NaN   \n",
      "\n",
      "                SourceURL GeoX GeoY            Timestamp  \\\n",
      "0                     NaN   \\N   \\N  2010-08-06 15:06:32   \n",
      "1                     NaN   \\N   \\N  2010-08-06 15:06:32   \n",
      "2                     NaN   \\N   \\N  2010-08-06 14:45:07   \n",
      "3  http://m.ctor.org/f2p/   \\N   \\N  2010-08-06 15:06:32   \n",
      "4                     NaN   \\N   \\N  2010-08-06 15:06:31   \n",
      "\n",
      "                                                Text  NumImg  ImgURL  \\\n",
      "0  В начале 20 века  было противостояние идеологи...     NaN     NaN   \n",
      "1                                     sofferenza? :D     NaN     NaN   \n",
      "2  Reel Review video: Catherine Shoard defends Kn...     NaN     NaN   \n",
      "3                                VMWareじゃなくてVMwareね。     NaN     NaN   \n",
      "4      Anıl havuzdan uzak dur. Sen evde olacaksın :)     NaN     NaN   \n",
      "\n",
      "   NumVideo  VideoURL  \n",
      "0       NaN       NaN  \n",
      "1       NaN       NaN  \n",
      "2       NaN       NaN  \n",
      "3       NaN       NaN  \n",
      "4       NaN       NaN  \n"
     ]
    }
   ],
   "source": [
    "# Load Comments\n",
    "\n",
    "comments = pd.read_csv(\"data/comments.csv\", delimiter=\"\\t\", header=None, names=[\"PostID\", \"EntryID\", \"PostedBy\", \"SourceName\", \"SourceURL\", \"GeoX\", \"GeoY\", \"Timestamp\", \"Text\", \"NumImg\", \"ImgURL\", \"NumVideos\", \"VideosURL\"])\n",
    "print(comments.shape)\n",
    "print(comments.head())\n"
   ]
  },
  {
   "cell_type": "code",
   "execution_count": 12,
   "id": "7d99b126",
   "metadata": {},
   "outputs": [
    {
     "name": "stdout",
     "output_type": "stream",
     "text": [
      "(665382, 5)\n",
      "                   ID  Type                       Name ReservedField  \\\n",
      "0               2gwsk  user                  Ming Quek      2a9209ad   \n",
      "1              iroach  user                Isaac Roach      20948a19   \n",
      "2           tonybraun  user                 Tony Braun      f68e8b26   \n",
      "3  junknajidyahoocom1  user         Junknajid Yahoocom      98a02bb6   \n",
      "4   spaceastronautics  user  Space & Astronautics News      c3178cfa   \n",
      "\n",
      "                                         Description  \n",
      "0                                                NaN  \n",
      "1                                                NaN  \n",
      "2                                                NaN  \n",
      "3                                                NaN  \n",
      "4  NASA, ESA, NOAA, USGS, astronomy, space, weath...  \n"
     ]
    }
   ],
   "source": [
    "# Load Users\n",
    "\n",
    "users = pd.read_csv(\"data/users.csv\", delimiter=\"|\", header=None, names=[\"ID\", \"Type\", \"Name\", \"ReservedField\", \"Description\"], on_bad_lines='skip')\n",
    "print(users.shape)\n",
    "print(users.head())"
   ]
  },
  {
   "cell_type": "code",
   "execution_count": 13,
   "id": "7f11b9dc",
   "metadata": {},
   "outputs": [
    {
     "name": "stdout",
     "output_type": "stream",
     "text": [
      "(19547158, 3)\n",
      "      FollowedID      FollowerID                   Timestamp\n",
      "0      njsinc4el    brendafranzo  2010-08-01 16:21:37.562726\n",
      "1      njsinc4el       praguebob  2010-08-01 16:21:37.565893\n",
      "2  zachhwilliams      hungheroic  2010-08-01 16:21:37.779807\n",
      "3  zachhwilliams      ridwan2906  2010-08-01 16:21:37.780406\n",
      "4  zachhwilliams  nickcodipietro  2010-08-01 16:21:37.780894\n"
     ]
    }
   ],
   "source": [
    "# Load Following\n",
    "\n",
    "following = pd.read_csv(\"data/following.csv\", delimiter=\"\\t\", header=None, names=[\"FollowedID\", \"FollowerID\", \"Timestamp\"], on_bad_lines='skip')\n",
    "print(following.shape)\n",
    "print(following.head())\n"
   ]
  },
  {
   "cell_type": "code",
   "execution_count": 14,
   "id": "4986bb56",
   "metadata": {},
   "outputs": [
    {
     "name": "stdout",
     "output_type": "stream",
     "text": [
      "(1587290, 6)\n",
      "   UserID   ServiceID        ServiceName                         ServiceURL  \\\n",
      "0   2gwsk        blog               Blog  http://en.wikipedia.org/wiki/Blog   \n",
      "1   2gwsk     twitter            Twitter                http://twitter.com/   \n",
      "2  iroach    facebook           Facebook           http://www.facebook.com/   \n",
      "3  iroach  googletalk  Gmail/Google Talk            http://talk.google.com/   \n",
      "4  iroach     twitter            Twitter                http://twitter.com/   \n",
      "\n",
      "  UserNameOnService                                  UserURLOnService  \n",
      "0               NaN                        http://2gwsk.wordpress.com  \n",
      "1             2gwsk                          http://twitter.com/2gwsk  \n",
      "2               NaN  http://www.facebook.com/profile.php?id=688384411  \n",
      "3               NaN                                               NaN  \n",
      "4            iroach                         http://twitter.com/iroach  \n"
     ]
    }
   ],
   "source": [
    "# Load Services\n",
    "\n",
    "services = pd.read_csv(\"data/services.csv\", delimiter=\"|\", header=None, names=[\"UserID\", \"ServiceID\", \"ServiceName\", \"ServiceURL\", \"UserNameOnService\", \"UserURLOnService\"], on_bad_lines='skip')\n",
    "print(services.shape)\n",
    "print(services.head())"
   ]
  },
  {
   "cell_type": "code",
   "execution_count": 15,
   "id": "9eec857d",
   "metadata": {},
   "outputs": [
    {
     "name": "stdout",
     "output_type": "stream",
     "text": [
      "(27811816, 2)\n",
      "    CreatorId SubscriberId\n",
      "0  seoptimise        2gwsk\n",
      "1       xahac        2gwsk\n",
      "2   kmorrison       iroach\n",
      "3  seoptimise       iroach\n",
      "4       skyje       iroach\n"
     ]
    }
   ],
   "source": [
    "# Load Subscriptions\n",
    "\n",
    "subscriptions = pd.read_csv(\"data/subscriptions.csv\", delimiter=\",\", header=None, names=[\"CreatorId\", \"SubscriberId\"], on_bad_lines='skip')\n",
    "print(subscriptions.shape)\n",
    "print(subscriptions.head())\n"
   ]
  },
  {
   "cell_type": "code",
   "execution_count": 17,
   "id": "eb0bfd00",
   "metadata": {},
   "outputs": [
    {
     "name": "stdout",
     "output_type": "stream",
     "text": [
      "(798112, 3)\n",
      "             userID                              PostID            Timestamp\n",
      "0           yasinde  e/2d4fcaed2d2a4ac1a36571b66da3f16c  2010-04-28 07:17:43\n",
      "1  socialnewsturkey  e/2d4fcaed2d2a4ac1a36571b66da3f16c  2010-03-02 20:10:02\n",
      "2             janzu  e/2d4fcaed2d2a4ac1a36571b66da3f16c  2010-03-02 19:50:57\n",
      "3        mugecerman  e/2d4fcaed2d2a4ac1a36571b66da3f16c  2010-03-02 19:18:38\n",
      "4           miocaro  e/2d4fcaed2d2a4ac1a36571b66da3f16c  2010-03-02 17:31:31\n"
     ]
    }
   ],
   "source": [
    "# Load Likes\n",
    "\n",
    "likes = pd.read_csv(\"data/likes.csv\", delimiter=\"\\t\", header=None, names=[\"userID\", \"PostID\", \"Timestamp\"], on_bad_lines='skip')\n",
    "print(likes.shape)\n",
    "print(likes.head())\n"
   ]
  },
  {
   "cell_type": "code",
   "execution_count": 20,
   "id": "1e487c68",
   "metadata": {},
   "outputs": [
    {
     "name": "stdout",
     "output_type": "stream",
     "text": [
      "(12000000, 12)\n",
      "                               PostID     PostedBy             SourceName  \\\n",
      "0  e/29af803d670fb8d67692095f3ee623e6    newsroom1  Ottawa Citizen - News   \n",
      "1  e/9c8413a376bec6389be4d46d0812c2bb  mehmetinnet           Mehmetin.Net   \n",
      "2  e/2d658d97842a466a9513f587f85b0e59  mehmetergin           Mehmetin.Net   \n",
      "3  e/b269ab5d56be4e5e90c1954ecc1ef63a       afriki                    NaN   \n",
      "4  e/74f0a50c374a4ad6bddcbcc60c60cad9     hamsafar                    NaN   \n",
      "\n",
      "                                 SourceURL GeoX GeoY            Timestamp  \\\n",
      "0  http://www.ottawacitizen.com/index.html   \\N   \\N  2010-08-02 18:43:10   \n",
      "1                  http://www.mehmetin.net   \\N   \\N  2010-08-02 19:15:52   \n",
      "2                 http://www.mehmetin.net/   \\N   \\N  2010-08-02 19:15:52   \n",
      "3                                      NaN   \\N   \\N  2010-08-02 16:37:57   \n",
      "4                                      NaN   \\N   \\N  2010-08-02 18:54:39   \n",
      "\n",
      "                                                Text  NumImg  \\\n",
      "0  RIM 'will not compromise' BlackBerry security ...     1.0   \n",
      "1  Fethullah Gülen: Referandum siyasî olarak görü...     1.0   \n",
      "2  Fethullah Gülen: Referandum siyasî olarak görü...     1.0   \n",
      "3  Мне тут недавно один дизайнер сказал: «Ну прот...     0.0   \n",
      "4                           عرض سلام و خسته نباشيد:)     0.0   \n",
      "\n",
      "                                              ImgURL  NumVideos VideosURL  \n",
      "0   http://www.ottawacitizen.com/will+compromise+...        0.0       NaN  \n",
      "1   http://www.mehmetin.net/2010/08/fethullah-gul...        0.0       NaN  \n",
      "2   http://www.mehmetin.net/2010/08/fethullah-gul...        0.0       NaN  \n",
      "3                                                NaN        0.0       NaN  \n",
      "4                                                NaN        0.0       NaN  \n"
     ]
    }
   ],
   "source": [
    "# Load Entries/Posts\n",
    "\n",
    "entries1 = pd.read_csv(\"data/entries1.csv\", delimiter=\"\\t\", header=None, names=[\"PostID\", \"PostedBy\", \"SourceName\", \"SourceURL\", \"GeoX\", \"GeoY\", \"Timestamp\", \"Text\", \"NumImg\", \"ImgURL\", \"NumVideos\", \"VideosURL\"], on_bad_lines='skip')\n",
    "entries2 = pd.read_csv(\"data/entries1.csv\", delimiter=\"\\t\", header=None, names=[\"PostID\", \"PostedBy\", \"SourceName\", \"SourceURL\", \"GeoX\", \"GeoY\", \"Timestamp\", \"Text\", \"NumImg\", \"ImgURL\", \"NumVideos\", \"VideosURL\"], on_bad_lines='skip')\n",
    "entries3 = pd.read_csv(\"data/entries1.csv\", delimiter=\"\\t\", header=None, names=[\"PostID\", \"PostedBy\", \"SourceName\", \"SourceURL\", \"GeoX\", \"GeoY\", \"Timestamp\", \"Text\", \"NumImg\", \"ImgURL\", \"NumVideos\", \"VideosURL\"], on_bad_lines='skip')\n",
    "entries = pd.concat([entries1, entries2, entries3], ignore_index=True)\n",
    "print(entries.shape)\n",
    "print(entries.head())\n"
   ]
  }
 ],
 "metadata": {
  "kernelspec": {
   "display_name": "DL",
   "language": "python",
   "name": "python3"
  },
  "language_info": {
   "codemirror_mode": {
    "name": "ipython",
    "version": 3
   },
   "file_extension": ".py",
   "mimetype": "text/x-python",
   "name": "python",
   "nbconvert_exporter": "python",
   "pygments_lexer": "ipython3",
   "version": "3.10.16"
  }
 },
 "nbformat": 4,
 "nbformat_minor": 5
}
