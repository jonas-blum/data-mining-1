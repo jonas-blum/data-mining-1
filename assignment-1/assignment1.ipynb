{
 "cells": [
  {
   "cell_type": "code",
   "execution_count": 3,
   "id": "3f9a9a2a",
   "metadata": {},
   "outputs": [
    {
     "name": "stdout",
     "output_type": "stream",
     "text": [
      "(6500, 1)\n",
      "      pl;pw;sl;sw;id\n",
      "0  5.0;3.5;1.3;0.3;1\n",
      "1  4.8;3.0;1.4;0.2;2\n",
      "2  4.7;3.2;1.3;0.2;3\n",
      "3  4.6;3.2;1.5;0.2;4\n",
      "4  4.9;3.4;1.3;0.2;5\n"
     ]
    }
   ],
   "source": [
    "# Task 1\n",
    "import pandas as pd\n",
    "import numpy as np\n",
    "data = pd.read_csv(\"iris_data.csv\")\n",
    "labels = pd.read_csv(\"iris_labels.csv\")\n",
    "\n",
    "print(data.shape)\n",
    "print(data.head())"
   ]
  }
 ],
 "metadata": {
  "kernelspec": {
   "display_name": "DL",
   "language": "python",
   "name": "python3"
  },
  "language_info": {
   "codemirror_mode": {
    "name": "ipython",
    "version": 3
   },
   "file_extension": ".py",
   "mimetype": "text/x-python",
   "name": "python",
   "nbconvert_exporter": "python",
   "pygments_lexer": "ipython3",
   "version": "3.10.16"
  }
 },
 "nbformat": 4,
 "nbformat_minor": 5
}
